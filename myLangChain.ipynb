{
 "cells": [
  {
   "cell_type": "code",
   "execution_count": 1,
   "metadata": {},
   "outputs": [
    {
     "data": {
      "text/plain": [
       "True"
      ]
     },
     "execution_count": 1,
     "metadata": {},
     "output_type": "execute_result"
    }
   ],
   "source": [
    "import dotenv\n",
    "dotenv.load_dotenv()"
   ]
  },
  {
   "cell_type": "code",
   "execution_count": 2,
   "metadata": {},
   "outputs": [],
   "source": [
    "\n",
    "from langchain_openai import ChatOpenAI\n",
    "\n",
    "llm = ChatOpenAI(model=\"gpt-4-turbo-preview\")\n"
   ]
  },
  {
   "cell_type": "markdown",
   "metadata": {},
   "source": [
    "Let's create a vector Database"
   ]
  },
  {
   "cell_type": "code",
   "execution_count": 3,
   "metadata": {},
   "outputs": [],
   "source": [
    "from langchain_openai import OpenAIEmbeddings\n",
    "from langchain_community.document_loaders import DirectoryLoader\n",
    "from langchain.text_splitter import RecursiveCharacterTextSplitter\n",
    "from langchain_community.vectorstores import Chroma\n",
    "import chromadb, os\n",
    "\n",
    "embedding = OpenAIEmbeddings()\n",
    "\n",
    "raw_documents = DirectoryLoader(\"./docs\",glob=\"**/*.txt\", show_progress=False).load()\n",
    "text_splitter = RecursiveCharacterTextSplitter(chunk_size=500, chunk_overlap=50)\n",
    "documents = text_splitter.split_documents(raw_documents)\n",
    "\n",
    "chroma_directory = \"chromadb\"\n",
    "if os.path.exists(chroma_directory):\n",
    "    db = Chroma(embedding_function=embedding, persist_directory=chroma_directory)\n",
    "else:\n",
    "    db = Chroma.from_documents(documents=documents, embedding=embedding, persist_directory=chroma_directory)"
   ]
  },
  {
   "cell_type": "code",
   "execution_count": 4,
   "metadata": {},
   "outputs": [],
   "source": [
    "from langchain.chains import RetrievalQA\n",
    "# RAG prompt\n",
    "from langchain import hub\n",
    "\n",
    "# Loads the latest version\n",
    "prompt = hub.pull(\"rlm/rag-prompt\", api_url=\"https://api.hub.langchain.com\")\n",
    "\n",
    "qa_chain = RetrievalQA.from_chain_type(\n",
    "    llm, retriever=db.as_retriever(), chain_type_kwargs={\"prompt\": prompt}\n",
    ")"
   ]
  },
  {
   "cell_type": "markdown",
   "metadata": {},
   "source": [
    "Define a tool to fetch crime record"
   ]
  },
  {
   "cell_type": "code",
   "execution_count": 5,
   "metadata": {},
   "outputs": [],
   "source": [
    "from langchain.agents import AgentExecutor, ZeroShotAgent\n",
    "from ToolDefinitions import fetch_crime_records_tool, fetch_crime_record_stats_tool\n",
    "\n",
    "tools = [fetch_crime_records_tool, fetch_crime_record_stats_tool]\n",
    "\n"
   ]
  },
  {
   "cell_type": "code",
   "execution_count": 6,
   "metadata": {},
   "outputs": [],
   "source": [
    "from langchain.chains import LLMChain\n",
    "prompt = ZeroShotAgent.create_prompt(\n",
    "    tools=tools,\n",
    "    prefix=\"You are a helpful assistant that helps people get crime records from offline database using the following tools. \\n{instruction}\\n\\\n",
    "            You have this chat history: {chat_history}\\n\\n\",\n",
    "    format_instructions=\"\"\"use the following format:\\n\n",
    "    Question: the input question you must answer.\n",
    "    Thought: you should always think about which tool to use.\n",
    "    Action: the action to take, should always be only one of the tools '{tool_names}'\n",
    "    Action Input: the input to the action\n",
    "    Observation: the result of the action\n",
    "    ... (this Thought/Action/Action Input/Observation can repeat N times)\n",
    "    Thought: I now know the final answer\n",
    "    Final Answer: Summarize the observation which is the final answer to the original input question\n",
    "    \"\"\",\n",
    "    suffix=\"Begin:\\nQuestion: {input}\\nThought: {agent_scratchpad}\",\n",
    "    input_variables=['input', 'instruction'],\n",
    ")\n",
    "llm_chain = LLMChain(llm=llm, prompt=prompt, verbose=True)"
   ]
  },
  {
   "cell_type": "code",
   "execution_count": 7,
   "metadata": {},
   "outputs": [
    {
     "name": "stderr",
     "output_type": "stream",
     "text": [
      "c:\\Users\\manoj\\Documents\\MANOJ\\Github\\Ask-API\\venv\\lib\\site-packages\\langchain_core\\_api\\deprecation.py:117: LangChainDeprecationWarning: The class `langchain.agents.mrkl.base.ZeroShotAgent` was deprecated in langchain 0.1.0 and will be removed in 0.2.0. Use create_react_agent instead.\n",
      "  warn_deprecated(\n"
     ]
    }
   ],
   "source": [
    "agent = ZeroShotAgent(\n",
    "    llm_chain = llm_chain,\n",
    "    tools = [fetch_crime_records_tool],\n",
    "    verbose=True\n",
    ")\n"
   ]
  },
  {
   "cell_type": "code",
   "execution_count": 8,
   "metadata": {},
   "outputs": [],
   "source": [
    "from langchain.memory import ConversationTokenBufferMemory\n",
    "\n",
    "agent_executor = AgentExecutor.from_agent_and_tools(\n",
    "    agent=agent,\n",
    "    tools=tools,\n",
    "    handle_parsing_errors=True,\n",
    "    memory=ConversationTokenBufferMemory(memory_key=\"chat_history\", max_token_limit=500,llm=llm),\n",
    "    max_iterations=5,\n",
    "    verbose=True\n",
    ")"
   ]
  },
  {
   "cell_type": "code",
   "execution_count": 9,
   "metadata": {},
   "outputs": [],
   "source": [
    "question = \"Get crime records on crime type Homicide which happened near location 'Susan Spring'?\""
   ]
  },
  {
   "cell_type": "code",
   "execution_count": 10,
   "metadata": {},
   "outputs": [
    {
     "name": "stderr",
     "output_type": "stream",
     "text": [
      "c:\\Users\\manoj\\Documents\\MANOJ\\Github\\Ask-API\\venv\\lib\\site-packages\\langchain_core\\_api\\deprecation.py:117: LangChainDeprecationWarning: The function `run` was deprecated in LangChain 0.1.0 and will be removed in 0.2.0. Use invoke instead.\n",
      "  warn_deprecated(\n"
     ]
    },
    {
     "name": "stdout",
     "output_type": "stream",
     "text": [
      "\n",
      "\n",
      "\u001b[1m> Entering new AgentExecutor chain...\u001b[0m\n",
      "\n",
      "\n",
      "\u001b[1m> Entering new LLMChain chain...\u001b[0m\n",
      "Prompt after formatting:\n",
      "\u001b[32;1m\u001b[1;3mYou are a helpful assistant that helps people get crime records from offline database using the following tools. \n",
      "I don't have the ability to access or retrieve live data, including current crime records, from external databases or APIs in real-time. To get crime records on the crime type Homicide near the location 'Susan Spring', you would need to use the specified API framework by setting the parameters for the location 'Susan Spring', the crime type 'Homicide', and relevant dates, then use the Search Endpoint to find matching crime records.\n",
      "            You have this chat history: \n",
      "\n",
      "\n",
      "\n",
      "Get Crime record by location or crime type or date using /search_crime_records endpoint - tool/API: Fetches the crime records based on location or crime type or both using API endpoints,\n",
      "    input should be a JSON string with location and crime_type as keys\n",
      "Get crime database stats from /statistics endpoint - tool/API: Fetches statistics from crime records database using API endpoints,\n",
      "    input should be a JSON string which is optional\n",
      "\n",
      "use the following format:\n",
      "\n",
      "    Question: the input question you must answer.\n",
      "    Thought: you should always think about which tool to use.\n",
      "    Action: the action to take, should always be only one of the tools 'Get Crime record by location or crime type or date using /search_crime_records endpoint - tool/API, Get crime database stats from /statistics endpoint - tool/API'\n",
      "    Action Input: the input to the action\n",
      "    Observation: the result of the action\n",
      "    ... (this Thought/Action/Action Input/Observation can repeat N times)\n",
      "    Thought: I now know the final answer\n",
      "    Final Answer: Summarize the observation which is the final answer to the original input question\n",
      "    \n",
      "\n",
      "Begin:\n",
      "Question: Get crime records on crime type Homicide which happened near location 'Susan Spring'?\n",
      "Thought: \u001b[0m\n",
      "\n",
      "\u001b[1m> Finished chain.\u001b[0m\n",
      "\u001b[32;1m\u001b[1;3mTo get the specific crime records for the crime type 'Homicide' near the location 'Susan Spring', I need to use the /search_crime_records endpoint. This tool allows for searching based on location and crime type, which are exactly the parameters I need to use for this query.\n",
      "\n",
      "Action: Get Crime record by location or crime type or date using /search_crime_records endpoint - tool/API\n",
      "Action Input: {\"location\": \"Susan Spring\", \"crime_type\": \"Homicide\"}\u001b[0m\n",
      "Observation: \u001b[36;1m\u001b[1;3mb'[{\"Crime Record ID\":\"4ad2c089-979c-406a-8ca3-17921d46a200\",\"Location\":\"974 Susan Spring, Port Joshuaborough, VT 12878\",\"Type of Crime\":\"Homicide\",\"Suspects\":\"Alison Jackson\",\"Victims\":\"Linda Gentry\",\"Witnesses\":\"Anthony Dorsey\",\"Description\":\"Suggest bad number worker government style. Window institution attack future., Star election several four be western. Report industry order though fast.\",\"DateTime\":\"2024-02-03T09:39:31\"}]'\u001b[0m\n",
      "Thought:\n",
      "\n",
      "\u001b[1m> Entering new LLMChain chain...\u001b[0m\n",
      "Prompt after formatting:\n",
      "\u001b[32;1m\u001b[1;3mYou are a helpful assistant that helps people get crime records from offline database using the following tools. \n",
      "I don't have the ability to access or retrieve live data, including current crime records, from external databases or APIs in real-time. To get crime records on the crime type Homicide near the location 'Susan Spring', you would need to use the specified API framework by setting the parameters for the location 'Susan Spring', the crime type 'Homicide', and relevant dates, then use the Search Endpoint to find matching crime records.\n",
      "            You have this chat history: \n",
      "\n",
      "\n",
      "\n",
      "Get Crime record by location or crime type or date using /search_crime_records endpoint - tool/API: Fetches the crime records based on location or crime type or both using API endpoints,\n",
      "    input should be a JSON string with location and crime_type as keys\n",
      "Get crime database stats from /statistics endpoint - tool/API: Fetches statistics from crime records database using API endpoints,\n",
      "    input should be a JSON string which is optional\n",
      "\n",
      "use the following format:\n",
      "\n",
      "    Question: the input question you must answer.\n",
      "    Thought: you should always think about which tool to use.\n",
      "    Action: the action to take, should always be only one of the tools 'Get Crime record by location or crime type or date using /search_crime_records endpoint - tool/API, Get crime database stats from /statistics endpoint - tool/API'\n",
      "    Action Input: the input to the action\n",
      "    Observation: the result of the action\n",
      "    ... (this Thought/Action/Action Input/Observation can repeat N times)\n",
      "    Thought: I now know the final answer\n",
      "    Final Answer: Summarize the observation which is the final answer to the original input question\n",
      "    \n",
      "\n",
      "Begin:\n",
      "Question: Get crime records on crime type Homicide which happened near location 'Susan Spring'?\n",
      "Thought: To get the specific crime records for the crime type 'Homicide' near the location 'Susan Spring', I need to use the /search_crime_records endpoint. This tool allows for searching based on location and crime type, which are exactly the parameters I need to use for this query.\n",
      "\n",
      "Action: Get Crime record by location or crime type or date using /search_crime_records endpoint - tool/API\n",
      "Action Input: {\"location\": \"Susan Spring\", \"crime_type\": \"Homicide\"}\n",
      "Observation: b'[{\"Crime Record ID\":\"4ad2c089-979c-406a-8ca3-17921d46a200\",\"Location\":\"974 Susan Spring, Port Joshuaborough, VT 12878\",\"Type of Crime\":\"Homicide\",\"Suspects\":\"Alison Jackson\",\"Victims\":\"Linda Gentry\",\"Witnesses\":\"Anthony Dorsey\",\"Description\":\"Suggest bad number worker government style. Window institution attack future., Star election several four be western. Report industry order though fast.\",\"DateTime\":\"2024-02-03T09:39:31\"}]'\n",
      "Thought:\u001b[0m\n",
      "\n",
      "\u001b[1m> Finished chain.\u001b[0m\n",
      "\u001b[32;1m\u001b[1;3mI now know the final answer\n",
      "Final Answer: A crime record of homicide was found near the location 'Susan Spring'. The record details are as follows: Crime Record ID: 4ad2c089-979c-406a-8ca3-17921d46a200, Location: 974 Susan Spring, Port Joshuaborough, VT 12878, Type of Crime: Homicide, Suspects: Alison Jackson, Victims: Linda Gentry, Witnesses: Anthony Dorsey, Description: Suggest bad number worker government style. Window institution attack future., Star election several four be western. Report industry order though fast., DateTime: 2024-02-03T09:39:31.\u001b[0m\n",
      "\n",
      "\u001b[1m> Finished chain.\u001b[0m\n"
     ]
    },
    {
     "data": {
      "text/plain": [
       "\"A crime record of homicide was found near the location 'Susan Spring'. The record details are as follows: Crime Record ID: 4ad2c089-979c-406a-8ca3-17921d46a200, Location: 974 Susan Spring, Port Joshuaborough, VT 12878, Type of Crime: Homicide, Suspects: Alison Jackson, Victims: Linda Gentry, Witnesses: Anthony Dorsey, Description: Suggest bad number worker government style. Window institution attack future., Star election several four be western. Report industry order though fast., DateTime: 2024-02-03T09:39:31.\""
      ]
     },
     "execution_count": 10,
     "metadata": {},
     "output_type": "execute_result"
    }
   ],
   "source": [
    "instruction_from_llm = qa_chain.invoke({\"query\": question})['result']\n",
    "agent_executor.run({\"input\": question,\"instruction\": instruction_from_llm})"
   ]
  },
  {
   "cell_type": "code",
   "execution_count": 11,
   "metadata": {},
   "outputs": [
    {
     "name": "stdout",
     "output_type": "stream",
     "text": [
      "\n",
      "\n",
      "\u001b[1m> Entering new AgentExecutor chain...\u001b[0m\n",
      "\n",
      "\n",
      "\u001b[1m> Entering new LLMChain chain...\u001b[0m\n",
      "Prompt after formatting:\n",
      "\u001b[32;1m\u001b[1;3mYou are a helpful assistant that helps people get crime records from offline database using the following tools. \n",
      "To get statistics of the crime records database, you would need to use the specific endpoints provided by the API framework that are designed for retrieving crime incidents, statistics, and related data. By leveraging these endpoints, users can access detailed information about crime trends, occurrences, and compile comprehensive statistics. This process involves identifying the relevant endpoints, utilizing the required parameters (like crime record ID for suspects, victims, and witnesses), and combining the retrieved information to present a complete statistical overview.\n",
      "            You have this chat history: Human: I don't have the ability to access or retrieve live data, including current crime records, from external databases or APIs in real-time. To get crime records on the crime type Homicide near the location 'Susan Spring', you would need to use the specified API framework by setting the parameters for the location 'Susan Spring', the crime type 'Homicide', and relevant dates, then use the Search Endpoint to find matching crime records.\n",
      "AI: A crime record of homicide was found near the location 'Susan Spring'. The record details are as follows: Crime Record ID: 4ad2c089-979c-406a-8ca3-17921d46a200, Location: 974 Susan Spring, Port Joshuaborough, VT 12878, Type of Crime: Homicide, Suspects: Alison Jackson, Victims: Linda Gentry, Witnesses: Anthony Dorsey, Description: Suggest bad number worker government style. Window institution attack future., Star election several four be western. Report industry order though fast., DateTime: 2024-02-03T09:39:31.\n",
      "\n",
      "\n",
      "\n",
      "Get Crime record by location or crime type or date using /search_crime_records endpoint - tool/API: Fetches the crime records based on location or crime type or both using API endpoints,\n",
      "    input should be a JSON string with location and crime_type as keys\n",
      "Get crime database stats from /statistics endpoint - tool/API: Fetches statistics from crime records database using API endpoints,\n",
      "    input should be a JSON string which is optional\n",
      "\n",
      "use the following format:\n",
      "\n",
      "    Question: the input question you must answer.\n",
      "    Thought: you should always think about which tool to use.\n",
      "    Action: the action to take, should always be only one of the tools 'Get Crime record by location or crime type or date using /search_crime_records endpoint - tool/API, Get crime database stats from /statistics endpoint - tool/API'\n",
      "    Action Input: the input to the action\n",
      "    Observation: the result of the action\n",
      "    ... (this Thought/Action/Action Input/Observation can repeat N times)\n",
      "    Thought: I now know the final answer\n",
      "    Final Answer: Summarize the observation which is the final answer to the original input question\n",
      "    \n",
      "\n",
      "Begin:\n",
      "Question: Get statistics of the crime records database?\n",
      "Thought: \u001b[0m\n",
      "\n",
      "\u001b[1m> Finished chain.\u001b[0m\n",
      "\u001b[32;1m\u001b[1;3mTo answer this question, I need to use the tool that fetches statistics from the crime records database, as the question is specifically asking for statistical information rather than details of a particular crime record.\n",
      "\n",
      "Action: Get crime database stats from /statistics endpoint - tool/API\n",
      "Action Input: {}\u001b[0m\n",
      "Observation: \u001b[33;1m\u001b[1;3mb'{\"oldest_record_date\":\"2024-01-01\",\"newest_record_date\":\"2024-03-22\",\"value_counts_of_crime_type\":{\"Homicide\":214,\"Fraud\":213,\"Burglary\":202,\"Assault\":191,\"Robbery\":180},\"unique_victims\":995,\"unique_suspects\":996,\"unique_witnesses\":992}'\u001b[0m\n",
      "Thought:\n",
      "\n",
      "\u001b[1m> Entering new LLMChain chain...\u001b[0m\n",
      "Prompt after formatting:\n",
      "\u001b[32;1m\u001b[1;3mYou are a helpful assistant that helps people get crime records from offline database using the following tools. \n",
      "To get statistics of the crime records database, you would need to use the specific endpoints provided by the API framework that are designed for retrieving crime incidents, statistics, and related data. By leveraging these endpoints, users can access detailed information about crime trends, occurrences, and compile comprehensive statistics. This process involves identifying the relevant endpoints, utilizing the required parameters (like crime record ID for suspects, victims, and witnesses), and combining the retrieved information to present a complete statistical overview.\n",
      "            You have this chat history: Human: I don't have the ability to access or retrieve live data, including current crime records, from external databases or APIs in real-time. To get crime records on the crime type Homicide near the location 'Susan Spring', you would need to use the specified API framework by setting the parameters for the location 'Susan Spring', the crime type 'Homicide', and relevant dates, then use the Search Endpoint to find matching crime records.\n",
      "AI: A crime record of homicide was found near the location 'Susan Spring'. The record details are as follows: Crime Record ID: 4ad2c089-979c-406a-8ca3-17921d46a200, Location: 974 Susan Spring, Port Joshuaborough, VT 12878, Type of Crime: Homicide, Suspects: Alison Jackson, Victims: Linda Gentry, Witnesses: Anthony Dorsey, Description: Suggest bad number worker government style. Window institution attack future., Star election several four be western. Report industry order though fast., DateTime: 2024-02-03T09:39:31.\n",
      "\n",
      "\n",
      "\n",
      "Get Crime record by location or crime type or date using /search_crime_records endpoint - tool/API: Fetches the crime records based on location or crime type or both using API endpoints,\n",
      "    input should be a JSON string with location and crime_type as keys\n",
      "Get crime database stats from /statistics endpoint - tool/API: Fetches statistics from crime records database using API endpoints,\n",
      "    input should be a JSON string which is optional\n",
      "\n",
      "use the following format:\n",
      "\n",
      "    Question: the input question you must answer.\n",
      "    Thought: you should always think about which tool to use.\n",
      "    Action: the action to take, should always be only one of the tools 'Get Crime record by location or crime type or date using /search_crime_records endpoint - tool/API, Get crime database stats from /statistics endpoint - tool/API'\n",
      "    Action Input: the input to the action\n",
      "    Observation: the result of the action\n",
      "    ... (this Thought/Action/Action Input/Observation can repeat N times)\n",
      "    Thought: I now know the final answer\n",
      "    Final Answer: Summarize the observation which is the final answer to the original input question\n",
      "    \n",
      "\n",
      "Begin:\n",
      "Question: Get statistics of the crime records database?\n",
      "Thought: To answer this question, I need to use the tool that fetches statistics from the crime records database, as the question is specifically asking for statistical information rather than details of a particular crime record.\n",
      "\n",
      "Action: Get crime database stats from /statistics endpoint - tool/API\n",
      "Action Input: {}\n",
      "Observation: b'{\"oldest_record_date\":\"2024-01-01\",\"newest_record_date\":\"2024-03-22\",\"value_counts_of_crime_type\":{\"Homicide\":214,\"Fraud\":213,\"Burglary\":202,\"Assault\":191,\"Robbery\":180},\"unique_victims\":995,\"unique_suspects\":996,\"unique_witnesses\":992}'\n",
      "Thought:\u001b[0m\n",
      "\n",
      "\u001b[1m> Finished chain.\u001b[0m\n",
      "\u001b[32;1m\u001b[1;3mI now know the final answer.\n",
      "Final Answer: The crime records database statistics are as follows: the oldest record date is 2024-01-01, and the newest record date is 2024-03-22. The value counts of different crime types are Homicide (214), Fraud (213), Burglary (202), Assault (191), and Robbery (180). There are 995 unique victims, 996 unique suspects, and 992 unique witnesses in the database.\u001b[0m\n",
      "\n",
      "\u001b[1m> Finished chain.\u001b[0m\n"
     ]
    },
    {
     "data": {
      "text/plain": [
       "'The crime records database statistics are as follows: the oldest record date is 2024-01-01, and the newest record date is 2024-03-22. The value counts of different crime types are Homicide (214), Fraud (213), Burglary (202), Assault (191), and Robbery (180). There are 995 unique victims, 996 unique suspects, and 992 unique witnesses in the database.'"
      ]
     },
     "execution_count": 11,
     "metadata": {},
     "output_type": "execute_result"
    }
   ],
   "source": [
    "question = \"Get statistics of the crime records database?\"\n",
    "instruction_from_llm = qa_chain.invoke({\"query\": question})['result']\n",
    "agent_executor.run({\"input\": question,\"instruction\": instruction_from_llm})"
   ]
  }
 ],
 "metadata": {
  "kernelspec": {
   "display_name": "venv",
   "language": "python",
   "name": "python3"
  },
  "language_info": {
   "codemirror_mode": {
    "name": "ipython",
    "version": 3
   },
   "file_extension": ".py",
   "mimetype": "text/x-python",
   "name": "python",
   "nbconvert_exporter": "python",
   "pygments_lexer": "ipython3",
   "version": "3.9.13"
  }
 },
 "nbformat": 4,
 "nbformat_minor": 2
}
